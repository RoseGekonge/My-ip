{
 "cells": [
  {
   "cell_type": "code",
   "execution_count": 7,
   "metadata": {},
   "outputs": [
    {
     "name": "stdout",
     "output_type": "stream",
     "text": [
      "enter number of minutes used 100\n",
      "enter number of texts messages used 100\n",
      "The additional minutes are 80.0\n",
      "The additional text messages are 80.0\n",
      "522.0\n"
     ]
    }
   ],
   "source": [
    "#Assigning a parameter\n",
    "Base_charge=50.00\n",
    "#prompt the program to give the cummulative texts and minutes used by the subscriber\n",
    "Minutes=float(input(\"enter number of minutes used \"))\n",
    "Texts=float(input(\"enter number of texts messages used \"))\n",
    "#Assigning parameters\n",
    "Additional_minutes=Minutes-20\n",
    "Additional_texts=Texts-20\n",
    "VAT_tax=0.16\n",
    "#defining our function\n",
    "def Bill(Additional_texts,Additional_minutes):\n",
    "    #performing an operation\n",
    "    Charge=(Base_charge+(Additional_minutes*3.00)+(Additional_texts*2.00))\n",
    "    Total_bill_amount=Charge+Charge*VAT_tax\n",
    "    return print(Total_bill_amount)\n",
    "#printing the additional minutes and texts\n",
    "print('The additional minutes are '+ str(Additional_minutes))\n",
    "print('The additional text messages are '+str(Additional_texts))\n",
    "Bill(Additional_texts,Additional_minutes)"
   ]
  },
  {
   "cell_type": "code",
   "execution_count": null,
   "metadata": {},
   "outputs": [],
   "source": []
  }
 ],
 "metadata": {
  "kernelspec": {
   "display_name": "Python 3",
   "language": "python",
   "name": "python3"
  },
  "language_info": {
   "codemirror_mode": {
    "name": "ipython",
    "version": 3
   },
   "file_extension": ".py",
   "mimetype": "text/x-python",
   "name": "python",
   "nbconvert_exporter": "python",
   "pygments_lexer": "ipython3",
   "version": "3.7.6"
  }
 },
 "nbformat": 4,
 "nbformat_minor": 4
}
